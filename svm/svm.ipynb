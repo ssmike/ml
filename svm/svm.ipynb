{
 "cells": [
  {
   "cell_type": "code",
   "execution_count": 1,
   "metadata": {
    "collapsed": false
   },
   "outputs": [],
   "source": [
    "from svm import SVM\n",
    "import numpy as np\n",
    "from sklearn.datasets import make_regression\n",
    "%matplotlib inline\n",
    "from sklearn.cross_validation import train_test_split\n",
    "import matplotlib.pyplot as plt\n",
    "from sklearn.metrics import mean_squared_error, median_absolute_error\n",
    "from scipy.stats import norm\n",
    "from sklearn.svm import SVR"
   ]
  },
  {
   "cell_type": "markdown",
   "metadata": {
    "collapsed": false
   },
   "source": [
    "SVM реализовал с помощью метода сопряжённых градиентов minimize(method='Newton-CG'). Сгенерируем случайную задачу регрессии и сравним с SVR."
   ]
  },
  {
   "cell_type": "code",
   "execution_count": 2,
   "metadata": {
    "collapsed": false
   },
   "outputs": [
    {
     "name": "stdout",
     "output_type": "stream",
     "text": [
      "0.984998873121\n",
      "0.650219080993\n",
      "0.972751277591\n",
      "0.638956577122\n"
     ]
    }
   ],
   "source": [
    "X, y = make_regression(n_samples=500, n_features=20, n_informative=10, noise=1.0)\n",
    "x_train, x_test, y_train, y_test = train_test_split(X, y, test_size=0.5)\n",
    "a = SVM()\n",
    "a.fit(X, y, tau=1e-2)\n",
    "y_pred = a.predict(x_test)\n",
    "print(mean_squared_error(y_test, y_pred))\n",
    "print(median_absolute_error(y_test, y_pred))\n",
    "a = SVR(kernel='linear', C=1e2)\n",
    "a.fit(X, y)\n",
    "y_pred = a.predict(x_test)\n",
    "print(mean_squared_error(y_test, y_pred))\n",
    "print(median_absolute_error(y_test, y_pred))"
   ]
  },
  {
   "cell_type": "markdown",
   "metadata": {},
   "source": [
    "Результаты сравнимы. Попробуем почти линейную задачу. То есть $ y = x * w_0 + \\tau $ где $\\tau$ нормально распределенный случайный шум."
   ]
  },
  {
   "cell_type": "code",
   "execution_count": 3,
   "metadata": {
    "collapsed": false
   },
   "outputs": [],
   "source": [
    "w = norm(loc=10, scale=5).rvs(X.shape[1])\n",
    "y = np.sum(w * X, axis=1) + norm(loc=0, scale=0.5).rvs(X.shape[0])"
   ]
  },
  {
   "cell_type": "code",
   "execution_count": 6,
   "metadata": {
    "collapsed": false
   },
   "outputs": [
    {
     "name": "stdout",
     "output_type": "stream",
     "text": [
      "0.236881281746\n",
      "0.316574616048\n",
      "0.235071314588\n",
      "0.316586597115\n"
     ]
    }
   ],
   "source": [
    "x_train, x_test, y_train, y_test = train_test_split(X, y, test_size=0.5)\n",
    "a = SVM()\n",
    "a.fit(X, y, tau=1e-2)\n",
    "y_pred = a.predict(x_test)\n",
    "w0 = a.W\n",
    "print(mean_squared_error(y_test, y_pred))\n",
    "print(median_absolute_error(y_test, y_pred))\n",
    "a = SVR(kernel='linear', C=1e2)\n",
    "a.fit(X, y)\n",
    "y_pred = a.predict(x_test)\n",
    "print(mean_squared_error(y_test, y_pred))\n",
    "print(median_absolute_error(y_test, y_pred))"
   ]
  },
  {
   "cell_type": "markdown",
   "metadata": {},
   "source": [
    "Посмотрим, насколько точно SVM нашел закономерность в датасете. "
   ]
  },
  {
   "cell_type": "code",
   "execution_count": 15,
   "metadata": {
    "collapsed": false
   },
   "outputs": [
    {
     "name": "stdout",
     "output_type": "stream",
     "text": [
      "-0.000282225531299\n",
      "0.0251031973971\n"
     ]
    }
   ],
   "source": [
    "w1 = np.append(w, 0)\n",
    "print((w1-w0).mean())\n",
    "print(np.abs(w1-w0).mean())"
   ]
  },
  {
   "cell_type": "code",
   "execution_count": null,
   "metadata": {
    "collapsed": true
   },
   "outputs": [],
   "source": []
  }
 ],
 "metadata": {
  "kernelspec": {
   "display_name": "Python 3",
   "language": "python",
   "name": "python3"
  },
  "language_info": {
   "codemirror_mode": {
    "name": "ipython",
    "version": 3
   },
   "file_extension": ".py",
   "mimetype": "text/x-python",
   "name": "python",
   "nbconvert_exporter": "python",
   "pygments_lexer": "ipython3",
   "version": "3.5.1"
  }
 },
 "nbformat": 4,
 "nbformat_minor": 0
}
